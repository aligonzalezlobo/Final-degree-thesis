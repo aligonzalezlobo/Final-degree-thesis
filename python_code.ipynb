{
 "cells": [
  {
   "cell_type": "markdown",
   "metadata": {},
   "source": [
    "First, we load the necessary libraries."
   ]
  },
  {
   "cell_type": "code",
   "execution_count": 1,
   "metadata": {},
   "outputs": [],
   "source": [
    "# Python ≥3.5 is required\n",
    "import sys\n",
    "assert sys.version_info >= (3, 6)\n",
    "\n",
    "# Scikit-Learn ≥0.20 is required\n",
    "import sklearn\n",
    "assert sklearn.__version__ >= \"0.24\"\n",
    "\n",
    "# Common imports\n",
    "import numpy as np\n",
    "import os\n",
    "import pandas as pd\n",
    "\n",
    "# to make this notebook's output stable across runs\n",
    "np.random.seed(42)\n",
    "\n",
    "# To plot pretty figures\n",
    "%matplotlib inline\n",
    "import matplotlib as mpl\n",
    "import matplotlib.pyplot as plt\n",
    "mpl.rc('axes', labelsize=14)\n",
    "mpl.rc('xtick', labelsize=12)\n",
    "mpl.rc('ytick', labelsize=12)\n",
    "\n",
    "\n",
    "# text preprocessing libraries\n",
    "import nltk\n",
    "from nltk.corpus import stopwords\n",
    "from nltk.tokenize import word_tokenize\n",
    "from nltk.tokenize import sent_tokenize\n",
    "from nltk.tokenize import WordPunctTokenizer\n",
    "from nltk.tokenize import TweetTokenizer\n",
    "from nltk.stem import WordNetLemmatizer\n",
    "from nltk.stem import PorterStemmer\n",
    "\n",
    "#regular expressions\n",
    "import re\n",
    "\n",
    "# signos de puntuación\n",
    "import string"
   ]
  },
  {
   "cell_type": "code",
   "execution_count": 2,
   "metadata": {},
   "outputs": [
    {
     "name": "stdout",
     "output_type": "stream",
     "text": [
      "The nltk version is 3.6.7.\n",
      "The scikit-learn version is 0.24.2.\n"
     ]
    }
   ],
   "source": [
    "print('The nltk version is {}.'.format(nltk.__version__))\n",
    "print('The scikit-learn version is {}.'.format(sklearn.__version__))"
   ]
  },
  {
   "cell_type": "markdown",
   "metadata": {},
   "source": [
    "# The database"
   ]
  },
  {
   "cell_type": "markdown",
   "metadata": {},
   "source": [
    "This project consists of a binary classification task where:\n",
    "\n",
    "    - 0 corresponds to a non hate speech tweet\n",
    "    \n",
    "    - 1 corresponds to a hate speech"
   ]
  },
  {
   "cell_type": "code",
   "execution_count": 3,
   "metadata": {},
   "outputs": [],
   "source": [
    "# CARGAMOS LOS DATOS\n",
    "tweets = pd.read_csv(\"FinalBalancedDataset.csv\")"
   ]
  },
  {
   "cell_type": "code",
   "execution_count": 4,
   "metadata": {},
   "outputs": [
    {
     "data": {
      "text/html": [
       "<div>\n",
       "<style scoped>\n",
       "    .dataframe tbody tr th:only-of-type {\n",
       "        vertical-align: middle;\n",
       "    }\n",
       "\n",
       "    .dataframe tbody tr th {\n",
       "        vertical-align: top;\n",
       "    }\n",
       "\n",
       "    .dataframe thead th {\n",
       "        text-align: right;\n",
       "    }\n",
       "</style>\n",
       "<table border=\"1\" class=\"dataframe\">\n",
       "  <thead>\n",
       "    <tr style=\"text-align: right;\">\n",
       "      <th></th>\n",
       "      <th>Unnamed: 0</th>\n",
       "      <th>Toxicity</th>\n",
       "      <th>tweet</th>\n",
       "    </tr>\n",
       "  </thead>\n",
       "  <tbody>\n",
       "    <tr>\n",
       "      <th>0</th>\n",
       "      <td>0</td>\n",
       "      <td>0</td>\n",
       "      <td>@user when a father is dysfunctional and is s...</td>\n",
       "    </tr>\n",
       "    <tr>\n",
       "      <th>1</th>\n",
       "      <td>1</td>\n",
       "      <td>0</td>\n",
       "      <td>@user @user thanks for #lyft credit i can't us...</td>\n",
       "    </tr>\n",
       "    <tr>\n",
       "      <th>2</th>\n",
       "      <td>2</td>\n",
       "      <td>0</td>\n",
       "      <td>bihday your majesty</td>\n",
       "    </tr>\n",
       "    <tr>\n",
       "      <th>3</th>\n",
       "      <td>3</td>\n",
       "      <td>0</td>\n",
       "      <td>#model   i love u take with u all the time in ...</td>\n",
       "    </tr>\n",
       "    <tr>\n",
       "      <th>4</th>\n",
       "      <td>4</td>\n",
       "      <td>0</td>\n",
       "      <td>factsguide: society now    #motivation</td>\n",
       "    </tr>\n",
       "  </tbody>\n",
       "</table>\n",
       "</div>"
      ],
      "text/plain": [
       "   Unnamed: 0  Toxicity                                              tweet\n",
       "0           0         0   @user when a father is dysfunctional and is s...\n",
       "1           1         0  @user @user thanks for #lyft credit i can't us...\n",
       "2           2         0                                bihday your majesty\n",
       "3           3         0  #model   i love u take with u all the time in ...\n",
       "4           4         0             factsguide: society now    #motivation"
      ]
     },
     "execution_count": 4,
     "metadata": {},
     "output_type": "execute_result"
    }
   ],
   "source": [
    "# MIRAMOS LOS PRIMEROS TWEETS\n",
    "tweets.head()"
   ]
  },
  {
   "cell_type": "code",
   "execution_count": 5,
   "metadata": {},
   "outputs": [],
   "source": [
    "# NOS DESHACEMOS DEL NÚMERO DE IDENTIFICACIÓN\n",
    "tweets.drop('Unnamed: 0',axis=1,inplace=True)"
   ]
  },
  {
   "cell_type": "code",
   "execution_count": 6,
   "metadata": {},
   "outputs": [
    {
     "data": {
      "text/html": [
       "<div>\n",
       "<style scoped>\n",
       "    .dataframe tbody tr th:only-of-type {\n",
       "        vertical-align: middle;\n",
       "    }\n",
       "\n",
       "    .dataframe tbody tr th {\n",
       "        vertical-align: top;\n",
       "    }\n",
       "\n",
       "    .dataframe thead th {\n",
       "        text-align: right;\n",
       "    }\n",
       "</style>\n",
       "<table border=\"1\" class=\"dataframe\">\n",
       "  <thead>\n",
       "    <tr style=\"text-align: right;\">\n",
       "      <th></th>\n",
       "      <th>Toxicity</th>\n",
       "      <th>tweet</th>\n",
       "    </tr>\n",
       "  </thead>\n",
       "  <tbody>\n",
       "    <tr>\n",
       "      <th>0</th>\n",
       "      <td>0</td>\n",
       "      <td>@user when a father is dysfunctional and is s...</td>\n",
       "    </tr>\n",
       "    <tr>\n",
       "      <th>1</th>\n",
       "      <td>0</td>\n",
       "      <td>@user @user thanks for #lyft credit i can't us...</td>\n",
       "    </tr>\n",
       "    <tr>\n",
       "      <th>2</th>\n",
       "      <td>0</td>\n",
       "      <td>bihday your majesty</td>\n",
       "    </tr>\n",
       "    <tr>\n",
       "      <th>3</th>\n",
       "      <td>0</td>\n",
       "      <td>#model   i love u take with u all the time in ...</td>\n",
       "    </tr>\n",
       "    <tr>\n",
       "      <th>4</th>\n",
       "      <td>0</td>\n",
       "      <td>factsguide: society now    #motivation</td>\n",
       "    </tr>\n",
       "  </tbody>\n",
       "</table>\n",
       "</div>"
      ],
      "text/plain": [
       "   Toxicity                                              tweet\n",
       "0         0   @user when a father is dysfunctional and is s...\n",
       "1         0  @user @user thanks for #lyft credit i can't us...\n",
       "2         0                                bihday your majesty\n",
       "3         0  #model   i love u take with u all the time in ...\n",
       "4         0             factsguide: society now    #motivation"
      ]
     },
     "execution_count": 6,
     "metadata": {},
     "output_type": "execute_result"
    }
   ],
   "source": [
    "tweets.head()"
   ]
  },
  {
   "cell_type": "code",
   "execution_count": 7,
   "metadata": {},
   "outputs": [
    {
     "name": "stdout",
     "output_type": "stream",
     "text": [
      "3\n"
     ]
    },
    {
     "data": {
      "text/plain": [
       "('#model   i love u take with u all the time in urð\\x9f\\x93±!!! ð\\x9f\\x98\\x99ð\\x9f\\x98\\x8eð\\x9f\\x91\\x84ð\\x9f\\x91\\x85ð\\x9f\\x92¦ð\\x9f\\x92¦ð\\x9f\\x92¦  ',\n",
       " 0)"
      ]
     },
     "execution_count": 7,
     "metadata": {},
     "output_type": "execute_result"
    }
   ],
   "source": [
    "# CÓMO VER UN TWEET ALEATORIO\n",
    "random = np.random.randint(0,len('tweet'))\n",
    "print(random)\n",
    "(tweets.iloc[random]['tweet'], tweets.iloc[random]['Toxicity'])"
   ]
  },
  {
   "cell_type": "code",
   "execution_count": 8,
   "metadata": {},
   "outputs": [
    {
     "data": {
      "text/plain": [
       "('RT @lumponthegrind: Great pussy will have you doing shit you would think you would never do',\n",
       " 1)"
      ]
     },
     "execution_count": 8,
     "metadata": {},
     "output_type": "execute_result"
    }
   ],
   "source": [
    "# TWEET DE ODIO\n",
    "(tweets.iloc[51555]['tweet'], tweets.iloc[51555]['Toxicity'])"
   ]
  },
  {
   "cell_type": "code",
   "execution_count": 9,
   "metadata": {},
   "outputs": [],
   "source": [
    "# CREAMOS UNA COPIA DE LA BASE DE DATOS\n",
    "copia = tweets.copy()"
   ]
  },
  {
   "cell_type": "markdown",
   "metadata": {},
   "source": [
    "## La base de datos: preparación"
   ]
  },
  {
   "cell_type": "code",
   "execution_count": 10,
   "metadata": {},
   "outputs": [
    {
     "data": {
      "text/html": [
       "<div>\n",
       "<style scoped>\n",
       "    .dataframe tbody tr th:only-of-type {\n",
       "        vertical-align: middle;\n",
       "    }\n",
       "\n",
       "    .dataframe tbody tr th {\n",
       "        vertical-align: top;\n",
       "    }\n",
       "\n",
       "    .dataframe thead th {\n",
       "        text-align: right;\n",
       "    }\n",
       "</style>\n",
       "<table border=\"1\" class=\"dataframe\">\n",
       "  <thead>\n",
       "    <tr style=\"text-align: right;\">\n",
       "      <th></th>\n",
       "      <th>Toxicity</th>\n",
       "      <th>tweet</th>\n",
       "    </tr>\n",
       "  </thead>\n",
       "  <tbody>\n",
       "    <tr>\n",
       "      <th>0</th>\n",
       "      <td>0</td>\n",
       "      <td>@user when a father is dysfunctional and is s...</td>\n",
       "    </tr>\n",
       "    <tr>\n",
       "      <th>1</th>\n",
       "      <td>0</td>\n",
       "      <td>@user @user thanks for #lyft credit i can't us...</td>\n",
       "    </tr>\n",
       "    <tr>\n",
       "      <th>2</th>\n",
       "      <td>0</td>\n",
       "      <td>bihday your majesty</td>\n",
       "    </tr>\n",
       "    <tr>\n",
       "      <th>3</th>\n",
       "      <td>0</td>\n",
       "      <td>#model   i love u take with u all the time in ...</td>\n",
       "    </tr>\n",
       "    <tr>\n",
       "      <th>4</th>\n",
       "      <td>0</td>\n",
       "      <td>factsguide: society now    #motivation</td>\n",
       "    </tr>\n",
       "  </tbody>\n",
       "</table>\n",
       "</div>"
      ],
      "text/plain": [
       "   Toxicity                                              tweet\n",
       "0         0   @user when a father is dysfunctional and is s...\n",
       "1         0  @user @user thanks for #lyft credit i can't us...\n",
       "2         0                                bihday your majesty\n",
       "3         0  #model   i love u take with u all the time in ...\n",
       "4         0             factsguide: society now    #motivation"
      ]
     },
     "execution_count": 10,
     "metadata": {},
     "output_type": "execute_result"
    }
   ],
   "source": [
    "copia.head()"
   ]
  },
  {
   "cell_type": "code",
   "execution_count": 11,
   "metadata": {},
   "outputs": [],
   "source": [
    "# LIMPIEZA DEL TEXTO\n",
    "\n",
    "\n",
    "# la siguiente función sirve para quitar los diátricos del texto\n",
    "def simplify(text):\n",
    "    import unicodedata\n",
    "    try:\n",
    "        text = unicode(text, 'utf-8')\n",
    "    except NameError:\n",
    "        pass\n",
    "    text = unicodedata.normalize('NFD', text).encode('ascii', 'ignore').decode(\"utf-8\")\n",
    "    return str(text)\n",
    "\n",
    "\n",
    "copia['tweet'] = copia['tweet'].apply(simplify)\n",
    "\n",
    "\n",
    "# quitamos todas las palabras que empiecen por @ \n",
    "\n",
    "copia['tweet'].replace(r'@\\w+','',regex=True,inplace=True)\n",
    "\n",
    "\n",
    "# quitamos todas las urls\n",
    "\n",
    "copia['tweet'].replace(r'http\\S+','',regex=True,inplace=True)"
   ]
  },
  {
   "cell_type": "code",
   "execution_count": 12,
   "metadata": {},
   "outputs": [],
   "source": [
    "# separamos en sub-cadenas cada tweet usando TweetTokenizer\n",
    "\n",
    "tokenizer = TweetTokenizer(preserve_case=True)\n",
    "copia['tweet'] = copia['tweet'].apply(tokenizer.tokenize)"
   ]
  },
  {
   "cell_type": "code",
   "execution_count": 13,
   "metadata": {},
   "outputs": [
    {
     "data": {
      "text/html": [
       "<div>\n",
       "<style scoped>\n",
       "    .dataframe tbody tr th:only-of-type {\n",
       "        vertical-align: middle;\n",
       "    }\n",
       "\n",
       "    .dataframe tbody tr th {\n",
       "        vertical-align: top;\n",
       "    }\n",
       "\n",
       "    .dataframe thead th {\n",
       "        text-align: right;\n",
       "    }\n",
       "</style>\n",
       "<table border=\"1\" class=\"dataframe\">\n",
       "  <thead>\n",
       "    <tr style=\"text-align: right;\">\n",
       "      <th></th>\n",
       "      <th>Toxicity</th>\n",
       "      <th>tweet</th>\n",
       "    </tr>\n",
       "  </thead>\n",
       "  <tbody>\n",
       "    <tr>\n",
       "      <th>0</th>\n",
       "      <td>0</td>\n",
       "      <td>[when, a, father, is, dysfunctional, and, is, ...</td>\n",
       "    </tr>\n",
       "    <tr>\n",
       "      <th>1</th>\n",
       "      <td>0</td>\n",
       "      <td>[thanks, for, #lyft, credit, i, can't, use, ca...</td>\n",
       "    </tr>\n",
       "    <tr>\n",
       "      <th>2</th>\n",
       "      <td>0</td>\n",
       "      <td>[bihday, your, majesty]</td>\n",
       "    </tr>\n",
       "    <tr>\n",
       "      <th>3</th>\n",
       "      <td>0</td>\n",
       "      <td>[#model, i, love, u, take, with, u, all, the, ...</td>\n",
       "    </tr>\n",
       "    <tr>\n",
       "      <th>4</th>\n",
       "      <td>0</td>\n",
       "      <td>[factsguide, :, society, now, #motivation]</td>\n",
       "    </tr>\n",
       "  </tbody>\n",
       "</table>\n",
       "</div>"
      ],
      "text/plain": [
       "   Toxicity                                              tweet\n",
       "0         0  [when, a, father, is, dysfunctional, and, is, ...\n",
       "1         0  [thanks, for, #lyft, credit, i, can't, use, ca...\n",
       "2         0                            [bihday, your, majesty]\n",
       "3         0  [#model, i, love, u, take, with, u, all, the, ...\n",
       "4         0         [factsguide, :, society, now, #motivation]"
      ]
     },
     "execution_count": 13,
     "metadata": {},
     "output_type": "execute_result"
    }
   ],
   "source": [
    "copia.head()"
   ]
  },
  {
   "cell_type": "code",
   "execution_count": 14,
   "metadata": {},
   "outputs": [],
   "source": [
    "# La siguiente función sirve para quitar los símbolos hashtagh\n",
    "\n",
    "def remove_hashsymbols(text):\n",
    "    '''Function to remove the hashtag symbol from the text'''\n",
    "    pattern = re.compile(r'#')\n",
    "    text = ' '.join(text)\n",
    "    clean_text = re.sub(pattern,'',text)\n",
    "    return tokenizer.tokenize(clean_text)  \n",
    "\n",
    "\n",
    "copia['tweet'] = copia['tweet'].apply(remove_hashsymbols)"
   ]
  },
  {
   "cell_type": "code",
   "execution_count": 15,
   "metadata": {},
   "outputs": [
    {
     "data": {
      "text/html": [
       "<div>\n",
       "<style scoped>\n",
       "    .dataframe tbody tr th:only-of-type {\n",
       "        vertical-align: middle;\n",
       "    }\n",
       "\n",
       "    .dataframe tbody tr th {\n",
       "        vertical-align: top;\n",
       "    }\n",
       "\n",
       "    .dataframe thead th {\n",
       "        text-align: right;\n",
       "    }\n",
       "</style>\n",
       "<table border=\"1\" class=\"dataframe\">\n",
       "  <thead>\n",
       "    <tr style=\"text-align: right;\">\n",
       "      <th></th>\n",
       "      <th>Toxicity</th>\n",
       "      <th>tweet</th>\n",
       "    </tr>\n",
       "  </thead>\n",
       "  <tbody>\n",
       "    <tr>\n",
       "      <th>0</th>\n",
       "      <td>0</td>\n",
       "      <td>[when, a, father, is, dysfunctional, and, is, ...</td>\n",
       "    </tr>\n",
       "    <tr>\n",
       "      <th>1</th>\n",
       "      <td>0</td>\n",
       "      <td>[thanks, for, lyft, credit, i, can't, use, cau...</td>\n",
       "    </tr>\n",
       "    <tr>\n",
       "      <th>2</th>\n",
       "      <td>0</td>\n",
       "      <td>[bihday, your, majesty]</td>\n",
       "    </tr>\n",
       "    <tr>\n",
       "      <th>3</th>\n",
       "      <td>0</td>\n",
       "      <td>[model, i, love, u, take, with, u, all, the, t...</td>\n",
       "    </tr>\n",
       "    <tr>\n",
       "      <th>4</th>\n",
       "      <td>0</td>\n",
       "      <td>[factsguide, :, society, now, motivation]</td>\n",
       "    </tr>\n",
       "  </tbody>\n",
       "</table>\n",
       "</div>"
      ],
      "text/plain": [
       "   Toxicity                                              tweet\n",
       "0         0  [when, a, father, is, dysfunctional, and, is, ...\n",
       "1         0  [thanks, for, lyft, credit, i, can't, use, cau...\n",
       "2         0                            [bihday, your, majesty]\n",
       "3         0  [model, i, love, u, take, with, u, all, the, t...\n",
       "4         0          [factsguide, :, society, now, motivation]"
      ]
     },
     "execution_count": 15,
     "metadata": {},
     "output_type": "execute_result"
    }
   ],
   "source": [
    "copia.head()"
   ]
  },
  {
   "cell_type": "code",
   "execution_count": 16,
   "metadata": {},
   "outputs": [
    {
     "name": "stdout",
     "output_type": "stream",
     "text": [
      "[('.', 22418), ('!', 17922), ('a', 17917), ('the', 16823), ('to', 15105), (':', 12594), (',', 12371), ('you', 10758), ('and', 8627), ('bitch', 8241), ('RT', 7612), ('in', 7602), ('is', 7008), ('\"', 6834), ('my', 6792), ('I', 6742), ('i', 6740), ('of', 6682), ('for', 6553), ('that', 5100), ('?', 5092), ('on', 5074), ('...', 4920), ('be', 4797), ('me', 4478), ('with', 4337), ('this', 4322), ('it', 4315), ('like', 3741), ('love', 3411), ('all', 3223), ('so', 3144), ('your', 3131), ('bitches', 3033), ('are', 2999), ('😂', 2786), ('at', 2711), ('&', 2709), ('have', 2637), ('just', 2632), ('day', 2600), ('up', 2509), ('but', 2379), ('hoes', 2348), ('u', 2346), ('-', 2301), ('get', 2262), ('not', 2260), ('when', 2241), ('pussy', 2177), ('was', 2031), ('out', 2000), ('do', 1959), ('hoe', 1921), ('they', 1919), (\"don't\", 1916), ('no', 1884), ('we', 1882), ('..', 1847), ('happy', 1790), ('about', 1775), ('got', 1747), ('“', 1726), ('what', 1714), ('will', 1687), ('ass', 1618), ('from', 1613), ('if', 1580), (\"I'm\", 1564), ('time', 1550), ('as', 1550), ('her', 1519), ('now', 1496), (\"it's\", 1491), ('can', 1472), ('one', 1420), ('am', 1393), ('life', 1386), ('how', 1386), (\"'\", 1361), ('”', 1359), ('these', 1356), ('shit', 1336), ('good', 1315), ('fuck', 1270), ('he', 1264), ('go', 1239), ('she', 1238), (\"can't\", 1234), ('new', 1222), ('some', 1222), ('know', 1218), ('people', 1215), ('want', 1214), ('today', 1208), ('see', 1198), ('who', 1191), ('by', 1188), ('or', 1177), ('trash', 1161), ('nigga', 1151), (\"i'm\", 1070), ('more', 1062), ('lol', 1041), ('…', 1039), ('an', 1024), ('his', 1012), ('them', 1004), ('make', 998), ('our', 983), ('thankful', 950), ('need', 948), ('positive', 940), ('/', 937), (\"ain't\", 897), ('why', 893), ('take', 889), ('back', 889), ('too', 878), ('really', 875), ('only', 867), ('2', 860), ('think', 857), ('bihday', 854), ('off', 848), ('has', 841), ('their', 812), ('You', 809), ('here', 805), ('@', 803), ('then', 799), (')', 794), ('never', 789), ('(', 779), ('work', 775), ('girl', 773), ('still', 772), ('being', 763), ('been', 761), (\"you're\", 757), ('there', 756), ('going', 752), ('right', 746), ('look', 739), ('smile', 738), ('way', 723), ('man', 709), ('say', 698), ('had', 697), ('*', 695), ('even', 690), ('ur', 686), ('bad', 686), ('2016', 677), ('us', 677), ('over', 676), ('niggas', 676), ('ai', 675), ('hate', 671), ('best', 664), ('fun', 662), ('than', 662), ('fucking', 645), ('weekend', 640), ('friends', 637), ('because', 633), ('first', 631), ('would', 621), ('If', 620), ('always', 612), ('healthy', 607), ('days', 607), ('summer', 606), ('come', 600), ('feel', 599), ('much', 596), ('little', 594), ('down', 591), ('yo', 591), ('great', 585), ('family', 574), ('after', 561), ('beautiful', 556), ('him', 555), ('white', 549), ('wait', 546), ('music', 542), ('cute', 541), ('night', 534), ('world', 532), ('😭', 531), ('friday', 530), ('morning', 525), (\"that's\", 525), ('last', 518), ('real', 517), ('bull', 513), ('ever', 508), ('stop', 504), ('said', 504)]\n"
     ]
    }
   ],
   "source": [
    "# ANÁLISIS BÁSICO: palabras más frecuentes en los tweets\n",
    "\n",
    "import operator\n",
    "from collections import Counter\n",
    "\n",
    "count_all = Counter()\n",
    "\n",
    "for line in copia['tweet']:\n",
    "    terms_all = [term for term in line]\n",
    "    \"#Actualiza el contador\"\n",
    "    count_all.update(terms_all)\n",
    "    \"#Imprime las primeras palabras con mayor frecuencia\"\n",
    "    \n",
    "print(count_all.most_common(200))"
   ]
  },
  {
   "cell_type": "code",
   "execution_count": 17,
   "metadata": {},
   "outputs": [
    {
     "name": "stdout",
     "output_type": "stream",
     "text": [
      "['i', 'me', 'my', 'myself', 'we', 'our', 'ours', 'ourselves', 'you', \"you're\", \"you've\", \"you'll\", \"you'd\", 'your', 'yours', 'yourself', 'yourselves', 'he', 'him', 'his', 'himself', 'she', \"she's\", 'her', 'hers', 'herself', 'it', \"it's\", 'its', 'itself', 'they', 'them', 'their', 'theirs', 'themselves', 'what', 'which', 'who', 'whom', 'this', 'that', \"that'll\", 'these', 'those', 'am', 'is', 'are', 'was', 'were', 'be', 'been', 'being', 'have', 'has', 'had', 'having', 'do', 'does', 'did', 'doing', 'a', 'an', 'the', 'and', 'but', 'if', 'or', 'because', 'as', 'until', 'while', 'of', 'at', 'by', 'for', 'with', 'about', 'against', 'between', 'into', 'through', 'during', 'before', 'after', 'above', 'below', 'to', 'from', 'up', 'down', 'in', 'out', 'on', 'off', 'over', 'under', 'again', 'further', 'then', 'once', 'here', 'there', 'when', 'where', 'why', 'how', 'all', 'any', 'both', 'each', 'few', 'more', 'most', 'other', 'some', 'such', 'no', 'nor', 'not', 'only', 'own', 'same', 'so', 'than', 'too', 'very', 's', 't', 'can', 'will', 'just', 'don', \"don't\", 'should', \"should've\", 'now', 'd', 'll', 'm', 'o', 're', 've', 'y', 'ain', 'aren', \"aren't\", 'couldn', \"couldn't\", 'didn', \"didn't\", 'doesn', \"doesn't\", 'hadn', \"hadn't\", 'hasn', \"hasn't\", 'haven', \"haven't\", 'isn', \"isn't\", 'ma', 'mightn', \"mightn't\", 'mustn', \"mustn't\", 'needn', \"needn't\", 'shan', \"shan't\", 'shouldn', \"shouldn't\", 'wasn', \"wasn't\", 'weren', \"weren't\", 'won', \"won't\", 'wouldn', \"wouldn't\"]\n"
     ]
    },
    {
     "name": "stderr",
     "output_type": "stream",
     "text": [
      "[nltk_data] Downloading package stopwords to /home/jovyan/nltk_data...\n",
      "[nltk_data]   Package stopwords is already up-to-date!\n"
     ]
    }
   ],
   "source": [
    "# lista predeterminada de palabras vacías\n",
    "nltk.download('stopwords')\n",
    "print(stopwords.words('english'))"
   ]
  },
  {
   "cell_type": "code",
   "execution_count": 18,
   "metadata": {},
   "outputs": [],
   "source": [
    "# Creamos nuestra propia lista\n",
    "stop_words = stopwords.words('english')"
   ]
  },
  {
   "cell_type": "code",
   "execution_count": 19,
   "metadata": {},
   "outputs": [
    {
     "data": {
      "text/plain": [
       "'!\"#$%&\\'()*+,-./:;<=>?@[\\\\]^_`{|}~'"
      ]
     },
     "execution_count": 19,
     "metadata": {},
     "output_type": "execute_result"
    }
   ],
   "source": [
    "# lista predeterminada de signos de puntuación\n",
    "string.punctuation"
   ]
  },
  {
   "cell_type": "code",
   "execution_count": 20,
   "metadata": {},
   "outputs": [],
   "source": [
    "lista_signos = list(string.punctuation)\n",
    "\n",
    "for words in lista_signos:\n",
    "    stop_words.append(words)"
   ]
  },
  {
   "cell_type": "code",
   "execution_count": 21,
   "metadata": {},
   "outputs": [],
   "source": [
    "additional_list = ['ai','rt','u',\"can't\",'ur','amp',\"i'm\"]\n",
    "\n",
    "for words in additional_list:\n",
    "    stop_words.append(words)"
   ]
  },
  {
   "cell_type": "code",
   "execution_count": 22,
   "metadata": {},
   "outputs": [],
   "source": [
    "# función para eliminar las palabras vacías\n",
    "\n",
    "def remove_stopwords(text):\n",
    "    clean_text = [word for word in text if not word in stop_words]\n",
    "    return clean_text \n",
    "\n",
    "copia['tweet'] = copia['tweet'].apply(remove_stopwords)"
   ]
  },
  {
   "cell_type": "code",
   "execution_count": 23,
   "metadata": {},
   "outputs": [
    {
     "name": "stdout",
     "output_type": "stream",
     "text": [
      "[('bitch', 8241), ('RT', 7612), ('I', 6742), ('...', 4920), ('like', 3741), ('love', 3411), ('bitches', 3033), ('😂', 2786), ('day', 2600), ('hoes', 2348), ('get', 2262), ('pussy', 2177), ('hoe', 1921), ('..', 1847), ('happy', 1790), ('got', 1747), ('“', 1726), ('ass', 1618), (\"I'm\", 1564), ('time', 1550), ('one', 1420), ('life', 1386), ('”', 1359), ('shit', 1336), ('good', 1315), ('fuck', 1270), ('go', 1239), ('new', 1222), ('know', 1218), ('people', 1215), ('want', 1214), ('today', 1208), ('see', 1198), ('trash', 1161), ('nigga', 1151), ('lol', 1041), ('…', 1039), ('make', 998), ('thankful', 950), ('need', 948), ('positive', 940), (\"ain't\", 897), ('take', 889), ('back', 889), ('really', 875), ('2', 860), ('think', 857), ('bihday', 854), ('You', 809), ('never', 789), ('work', 775), ('girl', 773), ('still', 772), ('going', 752), ('right', 746), ('look', 739), ('smile', 738), ('way', 723), ('man', 709), ('say', 698), ('even', 690), ('bad', 686), ('2016', 677), ('us', 677), ('niggas', 676), ('hate', 671), ('best', 664), ('fun', 662), ('fucking', 645), ('weekend', 640), ('friends', 637), ('first', 631), ('would', 621), ('If', 620), ('always', 612), ('healthy', 607), ('days', 607), ('summer', 606), ('come', 600), ('feel', 599), ('much', 596), ('little', 594), ('yo', 591), ('great', 585), ('family', 574), ('beautiful', 556), ('white', 549), ('wait', 546), ('music', 542), ('cute', 541), ('night', 534), ('world', 532), ('😭', 531), ('friday', 530), ('morning', 525), (\"that's\", 525), ('last', 518), ('real', 517), ('bull', 513), ('ever', 508), ('stop', 504), ('said', 504), ('next', 502), ('The', 502), ('home', 500), ('girls', 494), ('This', 492), ('week', 491), ('3', 486), ('getting', 483), ('let', 481), ('1', 479), ('sad', 476), ('tomorrow', 475), ('well', 464), ('My', 462), ('many', 461), ('better', 461), ('game', 458), ('ya', 458), ('year', 451), ('im', 450), ('every', 450), ('old', 449), ('4', 444), ('n', 443), ('live', 443), ('find', 442), ('black', 433), ('faggot', 430), ('another', 426), ('gonna', 420), (\"father's\", 419), ('orlando', 418), ('tonight', 417), ('made', 416), ('fathersday', 413), (':)', 411), ('looking', 410), ('keep', 409), ('makes', 403), ('A', 401), ('big', 399), ('call', 399), ('bird', 397), ('wanna', 395), ('model', 394), ('show', 394), ('give', 393), ('happiness', 392), ('around', 388), ('talk', 388), ('blog', 387), ('follow', 385), ('money', 382), ('tell', 381), ('things', 380), ('sunday', 379), ('trump', 375), ('ready', 367), ('someone', 366), ('free', 365), ('affirmation', 364), ('finally', 363), ('via', 361), ('baby', 361), ('thanks', 360), ('watch', 358), ('thank', 357), ('hope', 356), ('When', 354), ('pay', 353), ('i_am', 352), ('school', 351), ('wit', 350), ('😩', 350), ('everyone', 347), ('play', 347), ('something', 345), ('amazing', 343), ('thing', 342), ('dad', 341), (\"y'all\", 341), ('bout', 341), ('dick', 339), ('gold', 338), ('dont', 336), ('gotta', 335), ('cause', 334), ('might', 334), ('put', 333), ('could', 332), ('da', 332), ('nothing', 330), ('funny', 328), ('w', 328), ('god', 326), ('face', 325), ('selfie', 315), ('boy', 314)]\n"
     ]
    }
   ],
   "source": [
    "# REPETIMOS EL PROCESO\n",
    "\n",
    "count_all = Counter()\n",
    "for line in copia['tweet']:\n",
    "    terms_all = [term for term in line]\n",
    "    \"#Actualiza el contador\"\n",
    "    count_all.update(terms_all)\n",
    "    \"#Imprime las primeras 5 palabras con mayor frecuencia\"\n",
    "print(count_all.most_common(200))"
   ]
  },
  {
   "cell_type": "code",
   "execution_count": 24,
   "metadata": {},
   "outputs": [],
   "source": [
    "stop_words = ['I', '...', '..', 'get', 'got', '“', \"I'm\", '…', 'RT', \"ain't\", 'If', \"that's\", 'The', 'This', 'ya', 'im', 'n', 'gonna', 'A', 'da']\n",
    "copia['tweet'] = copia['tweet'].apply(remove_stopwords)"
   ]
  },
  {
   "cell_type": "code",
   "execution_count": 25,
   "metadata": {},
   "outputs": [
    {
     "data": {
      "text/html": [
       "<div>\n",
       "<style scoped>\n",
       "    .dataframe tbody tr th:only-of-type {\n",
       "        vertical-align: middle;\n",
       "    }\n",
       "\n",
       "    .dataframe tbody tr th {\n",
       "        vertical-align: top;\n",
       "    }\n",
       "\n",
       "    .dataframe thead th {\n",
       "        text-align: right;\n",
       "    }\n",
       "</style>\n",
       "<table border=\"1\" class=\"dataframe\">\n",
       "  <thead>\n",
       "    <tr style=\"text-align: right;\">\n",
       "      <th></th>\n",
       "      <th>Toxicity</th>\n",
       "      <th>tweet</th>\n",
       "    </tr>\n",
       "  </thead>\n",
       "  <tbody>\n",
       "    <tr>\n",
       "      <th>0</th>\n",
       "      <td>0</td>\n",
       "      <td>[father, dysfunctional, selfish, drags, kids, ...</td>\n",
       "    </tr>\n",
       "    <tr>\n",
       "      <th>1</th>\n",
       "      <td>0</td>\n",
       "      <td>[thanks, lyft, credit, use, cause, offer, whee...</td>\n",
       "    </tr>\n",
       "    <tr>\n",
       "      <th>2</th>\n",
       "      <td>0</td>\n",
       "      <td>[bihday, majesty]</td>\n",
       "    </tr>\n",
       "    <tr>\n",
       "      <th>3</th>\n",
       "      <td>0</td>\n",
       "      <td>[model, love, take, time]</td>\n",
       "    </tr>\n",
       "    <tr>\n",
       "      <th>4</th>\n",
       "      <td>0</td>\n",
       "      <td>[factsguide, society, motivation]</td>\n",
       "    </tr>\n",
       "  </tbody>\n",
       "</table>\n",
       "</div>"
      ],
      "text/plain": [
       "   Toxicity                                              tweet\n",
       "0         0  [father, dysfunctional, selfish, drags, kids, ...\n",
       "1         0  [thanks, lyft, credit, use, cause, offer, whee...\n",
       "2         0                                  [bihday, majesty]\n",
       "3         0                          [model, love, take, time]\n",
       "4         0                  [factsguide, society, motivation]"
      ]
     },
     "execution_count": 25,
     "metadata": {},
     "output_type": "execute_result"
    }
   ],
   "source": [
    "copia.head()"
   ]
  },
  {
   "cell_type": "code",
   "execution_count": 26,
   "metadata": {},
   "outputs": [],
   "source": [
    "# función para eliminar los dígitos del texto\n",
    "\n",
    "def rem_digits(text):\n",
    "    '''Function to remove the digits from the list of strings'''\n",
    "    no_digits = []\n",
    "    for word in text:\n",
    "        no_digits.append(re.sub(r'\\d','',word))\n",
    "    return ' '.join(no_digits) \n",
    "\n",
    "copia['tweet'] = copia['tweet'].apply(rem_digits)"
   ]
  },
  {
   "cell_type": "markdown",
   "metadata": {},
   "source": [
    "## La base de datos: visualización"
   ]
  },
  {
   "cell_type": "code",
   "execution_count": 27,
   "metadata": {},
   "outputs": [
    {
     "name": "stderr",
     "output_type": "stream",
     "text": [
      "/opt/conda/lib/python3.6/site-packages/seaborn/_decorators.py:43: FutureWarning: Pass the following variable as a keyword arg: x. From version 0.12, the only valid positional argument will be `data`, and passing other arguments without an explicit keyword will result in an error or misinterpretation.\n",
      "  FutureWarning\n"
     ]
    },
    {
     "data": {
      "image/png": "[encoded data removed]",
      "text/plain": [
       "<Figure size 432x288 with 1 Axes>"
      ]
     },
     "metadata": {
      "needs_background": "light"
     },
     "output_type": "display_data"
    }
   ],
   "source": [
    "# vemos la cantidad de tweets que tenemos en cada conjunto\n",
    "\n",
    "import seaborn as sns\n",
    "\n",
    "sns.countplot(copia['Toxicity'])\n",
    "plt.title('Count of Hate vs Non Hate Tweet')\n",
    "plt.grid()\n",
    "plt.show()"
   ]
  },
  {
   "cell_type": "code",
   "execution_count": 28,
   "metadata": {},
   "outputs": [],
   "source": [
    "copia['tweet'] = copia['tweet'].apply(tokenizer.tokenize)"
   ]
  },
  {
   "cell_type": "code",
   "execution_count": 29,
   "metadata": {},
   "outputs": [
    {
     "data": {
      "text/html": [
       "<div>\n",
       "<style scoped>\n",
       "    .dataframe tbody tr th:only-of-type {\n",
       "        vertical-align: middle;\n",
       "    }\n",
       "\n",
       "    .dataframe tbody tr th {\n",
       "        vertical-align: top;\n",
       "    }\n",
       "\n",
       "    .dataframe thead th {\n",
       "        text-align: right;\n",
       "    }\n",
       "</style>\n",
       "<table border=\"1\" class=\"dataframe\">\n",
       "  <thead>\n",
       "    <tr style=\"text-align: right;\">\n",
       "      <th></th>\n",
       "      <th>Toxicity</th>\n",
       "      <th>tweet</th>\n",
       "    </tr>\n",
       "  </thead>\n",
       "  <tbody>\n",
       "    <tr>\n",
       "      <th>0</th>\n",
       "      <td>0</td>\n",
       "      <td>[father, dysfunctional, selfish, drags, kids, ...</td>\n",
       "    </tr>\n",
       "    <tr>\n",
       "      <th>1</th>\n",
       "      <td>0</td>\n",
       "      <td>[thanks, lyft, credit, use, cause, offer, whee...</td>\n",
       "    </tr>\n",
       "    <tr>\n",
       "      <th>2</th>\n",
       "      <td>0</td>\n",
       "      <td>[bihday, majesty]</td>\n",
       "    </tr>\n",
       "    <tr>\n",
       "      <th>3</th>\n",
       "      <td>0</td>\n",
       "      <td>[model, love, take, time]</td>\n",
       "    </tr>\n",
       "    <tr>\n",
       "      <th>4</th>\n",
       "      <td>0</td>\n",
       "      <td>[factsguide, society, motivation]</td>\n",
       "    </tr>\n",
       "  </tbody>\n",
       "</table>\n",
       "</div>"
      ],
      "text/plain": [
       "   Toxicity                                              tweet\n",
       "0         0  [father, dysfunctional, selfish, drags, kids, ...\n",
       "1         0  [thanks, lyft, credit, use, cause, offer, whee...\n",
       "2         0                                  [bihday, majesty]\n",
       "3         0                          [model, love, take, time]\n",
       "4         0                  [factsguide, society, motivation]"
      ]
     },
     "execution_count": 29,
     "metadata": {},
     "output_type": "execute_result"
    }
   ],
   "source": [
    "copia.head()"
   ]
  },
  {
   "cell_type": "code",
   "execution_count": 30,
   "metadata": {},
   "outputs": [
    {
     "name": "stdout",
     "output_type": "stream",
     "text": [
      "[('bitch', 8241), ('like', 3791), ('love', 3413), ('bitches', 3033), ('😂', 2786), ('day', 2620), ('hoes', 2348), ('pussy', 2177), ('hoe', 1921), ('happy', 1790)]\n"
     ]
    }
   ],
   "source": [
    "# función para ver los 10 tokens más comunes y sus frecuencias\n",
    "\n",
    "count_all = Counter()\n",
    "for line in copia['tweet']:\n",
    "    terms_all = [term for term in line]\n",
    "    \"#Actualiza el contador\"\n",
    "    count_all.update(terms_all)\n",
    "    \"#Imprime las primeras 5 palabras con mayor frecuencia\"\n",
    "    \n",
    "print(count_all.most_common(10))"
   ]
  },
  {
   "cell_type": "code",
   "execution_count": 31,
   "metadata": {},
   "outputs": [
    {
     "data": {
      "image/png": "[encoded data removed]",
      "text/plain": [
       "<Figure size 432x288 with 1 Axes>"
      ]
     },
     "metadata": {
      "needs_background": "light"
     },
     "output_type": "display_data"
    }
   ],
   "source": [
    "frequency = nltk.FreqDist(count_all)\n",
    "plt.title('Top 10 tokens más comunes')\n",
    "frequency.plot(10,cumulative=False)\n",
    "plt.show()"
   ]
  },
  {
   "cell_type": "code",
   "execution_count": 32,
   "metadata": {},
   "outputs": [
    {
     "data": {
      "text/plain": [
       "Toxicity    0\n",
       "tweet       0\n",
       "dtype: int64"
      ]
     },
     "execution_count": 32,
     "metadata": {},
     "output_type": "execute_result"
    }
   ],
   "source": [
    "# veamos si hay valores nulos\n",
    "\n",
    "copia.isnull().sum()"
   ]
  },
  {
   "cell_type": "markdown",
   "metadata": {},
   "source": [
    "## Comienzo de proyecto de Machine Learning"
   ]
  },
  {
   "cell_type": "code",
   "execution_count": 33,
   "metadata": {},
   "outputs": [
    {
     "data": {
      "text/html": [
       "<div>\n",
       "<style scoped>\n",
       "    .dataframe tbody tr th:only-of-type {\n",
       "        vertical-align: middle;\n",
       "    }\n",
       "\n",
       "    .dataframe tbody tr th {\n",
       "        vertical-align: top;\n",
       "    }\n",
       "\n",
       "    .dataframe thead th {\n",
       "        text-align: right;\n",
       "    }\n",
       "</style>\n",
       "<table border=\"1\" class=\"dataframe\">\n",
       "  <thead>\n",
       "    <tr style=\"text-align: right;\">\n",
       "      <th></th>\n",
       "      <th>Toxicity</th>\n",
       "      <th>tweet</th>\n",
       "    </tr>\n",
       "  </thead>\n",
       "  <tbody>\n",
       "    <tr>\n",
       "      <th>0</th>\n",
       "      <td>0</td>\n",
       "      <td>[father, dysfunctional, selfish, drags, kids, ...</td>\n",
       "    </tr>\n",
       "    <tr>\n",
       "      <th>1</th>\n",
       "      <td>0</td>\n",
       "      <td>[thanks, lyft, credit, use, cause, offer, whee...</td>\n",
       "    </tr>\n",
       "    <tr>\n",
       "      <th>2</th>\n",
       "      <td>0</td>\n",
       "      <td>[bihday, majesty]</td>\n",
       "    </tr>\n",
       "    <tr>\n",
       "      <th>3</th>\n",
       "      <td>0</td>\n",
       "      <td>[model, love, take, time]</td>\n",
       "    </tr>\n",
       "    <tr>\n",
       "      <th>4</th>\n",
       "      <td>0</td>\n",
       "      <td>[factsguide, society, motivation]</td>\n",
       "    </tr>\n",
       "  </tbody>\n",
       "</table>\n",
       "</div>"
      ],
      "text/plain": [
       "   Toxicity                                              tweet\n",
       "0         0  [father, dysfunctional, selfish, drags, kids, ...\n",
       "1         0  [thanks, lyft, credit, use, cause, offer, whee...\n",
       "2         0                                  [bihday, majesty]\n",
       "3         0                          [model, love, take, time]\n",
       "4         0                  [factsguide, society, motivation]"
      ]
     },
     "execution_count": 33,
     "metadata": {},
     "output_type": "execute_result"
    }
   ],
   "source": [
    "copia.head()"
   ]
  },
  {
   "cell_type": "code",
   "execution_count": 34,
   "metadata": {},
   "outputs": [],
   "source": [
    "# volvemos a juntar los tweets en una sola cadena\n",
    "copia['tweet'] = copia['tweet'].apply(lambda x: ' '.join(x))"
   ]
  },
  {
   "cell_type": "code",
   "execution_count": 35,
   "metadata": {},
   "outputs": [
    {
     "data": {
      "text/html": [
       "<div>\n",
       "<style scoped>\n",
       "    .dataframe tbody tr th:only-of-type {\n",
       "        vertical-align: middle;\n",
       "    }\n",
       "\n",
       "    .dataframe tbody tr th {\n",
       "        vertical-align: top;\n",
       "    }\n",
       "\n",
       "    .dataframe thead th {\n",
       "        text-align: right;\n",
       "    }\n",
       "</style>\n",
       "<table border=\"1\" class=\"dataframe\">\n",
       "  <thead>\n",
       "    <tr style=\"text-align: right;\">\n",
       "      <th></th>\n",
       "      <th>Toxicity</th>\n",
       "      <th>tweet</th>\n",
       "    </tr>\n",
       "  </thead>\n",
       "  <tbody>\n",
       "    <tr>\n",
       "      <th>0</th>\n",
       "      <td>0</td>\n",
       "      <td>father dysfunctional selfish drags kids dysfun...</td>\n",
       "    </tr>\n",
       "    <tr>\n",
       "      <th>1</th>\n",
       "      <td>0</td>\n",
       "      <td>thanks lyft credit use cause offer wheelchair ...</td>\n",
       "    </tr>\n",
       "    <tr>\n",
       "      <th>2</th>\n",
       "      <td>0</td>\n",
       "      <td>bihday majesty</td>\n",
       "    </tr>\n",
       "  </tbody>\n",
       "</table>\n",
       "</div>"
      ],
      "text/plain": [
       "   Toxicity                                              tweet\n",
       "0         0  father dysfunctional selfish drags kids dysfun...\n",
       "1         0  thanks lyft credit use cause offer wheelchair ...\n",
       "2         0                                     bihday majesty"
      ]
     },
     "execution_count": 35,
     "metadata": {},
     "output_type": "execute_result"
    }
   ],
   "source": [
    "copia.head(3)"
   ]
  },
  {
   "cell_type": "markdown",
   "metadata": {},
   "source": [
    "Separamos nuestra base de datos en X (los tweets) e Y (la toxicidad)."
   ]
  },
  {
   "cell_type": "code",
   "execution_count": 36,
   "metadata": {},
   "outputs": [],
   "source": [
    "X = copia['tweet']\n",
    "Y = copia['Toxicity']"
   ]
  },
  {
   "cell_type": "markdown",
   "metadata": {},
   "source": [
    "Ahora, separamos la base de datos en un TRAIN SET y un TEST SET.\n",
    "\n",
    "Scikit-Learn ofrece ciertas funciones para dividir los datos en distintos subgrupos de maneras distintas. \n",
    "La función más simple es train_test_split(), que es la que vamos a usar.\n",
    "\n",
    "En primer lugar, definimos el \"test_size\" donde indicamos el tamaño que queremos para nuestro test set. Como tenemos un conjunto de datos suficientemente grande, vamos a separar el 20% de los datos para el test set.\n",
    "\n",
    "En segundo lugar, tenemos el parámetro \"random_state\" que nos permite crear la semilla generadora aleatoria.\n",
    "\n",
    "Por último, gracias al parámetro \"stratify\" los datos se dividen de forma estratificada. \n",
    "\n",
    "Es importante tener en cuenta que  puedes pasarle varios conjuntos de datos con un número idéntico de filas, y los dividirá en los mismos índices (esto es muy útil, ya que por ejemplo, en nuestro caso, podemos pasarle al mismo tiempo X e Y)."
   ]
  },
  {
   "cell_type": "code",
   "execution_count": 37,
   "metadata": {},
   "outputs": [
    {
     "name": "stdout",
     "output_type": "stream",
     "text": [
      "(45396,) (11349,) (45396,) (11349,)\n"
     ]
    }
   ],
   "source": [
    "from sklearn.model_selection import train_test_split\n",
    "\n",
    "X_train,X_test,Y_train,Y_test = train_test_split(X,Y,test_size=0.2,random_state=51,\n",
    "                                                 stratify=copia['Toxicity'])\n",
    "\n",
    "print(X_train.shape,X_test.shape,Y_train.shape,Y_test.shape)"
   ]
  },
  {
   "cell_type": "markdown",
   "metadata": {},
   "source": [
    "A continuación, usamos TF-IDF:"
   ]
  },
  {
   "cell_type": "code",
   "execution_count": 38,
   "metadata": {},
   "outputs": [],
   "source": [
    "# importamos tfidf vectorizer\n",
    "from sklearn.feature_extraction.text import TfidfVectorizer\n",
    "from sklearn.feature_extraction.text import TfidfTransformer"
   ]
  },
  {
   "cell_type": "code",
   "execution_count": 39,
   "metadata": {},
   "outputs": [],
   "source": [
    "#instanciamos el vectorizador \n",
    "vectorizer = TfidfVectorizer(max_features=5000)"
   ]
  },
  {
   "cell_type": "code",
   "execution_count": 40,
   "metadata": {},
   "outputs": [],
   "source": [
    "# probamos en el TRAINING SET\n",
    "X_train = vectorizer.fit_transform(X_train)\n",
    "\n",
    "# transformamos el TEST SET\n",
    "X_test = vectorizer.transform(X_test)"
   ]
  },
  {
   "cell_type": "code",
   "execution_count": 41,
   "metadata": {},
   "outputs": [
    {
     "data": {
      "text/plain": [
       "((45396, 5000), (11349, 5000))"
      ]
     },
     "execution_count": 41,
     "metadata": {},
     "output_type": "execute_result"
    }
   ],
   "source": [
    "# comprobamos el espacio\n",
    "X_train.shape, X_test.shape"
   ]
  },
  {
   "cell_type": "markdown",
   "metadata": {},
   "source": [
    "# Primer modelo de clasificación: Regresión Logística con hiperparámetros por defecto"
   ]
  },
  {
   "cell_type": "code",
   "execution_count": 42,
   "metadata": {},
   "outputs": [],
   "source": [
    "# importamos el modelo\n",
    "\n",
    "from sklearn.linear_model import LogisticRegression"
   ]
  },
  {
   "cell_type": "code",
   "execution_count": 43,
   "metadata": {},
   "outputs": [],
   "source": [
    "# lo inicializamos con hiperparámetros por defecto\n",
    "\n",
    "logreg_clf1 = LogisticRegression()\n",
    "logreg_clf1.fit(X_train,Y_train)\n",
    "train_predictions1 = logreg_clf1.predict(X_train)\n",
    "test_predictions1 = logreg_clf1.predict(X_test)"
   ]
  },
  {
   "cell_type": "markdown",
   "metadata": {},
   "source": [
    "## Evaluación del primer modelo"
   ]
  },
  {
   "cell_type": "code",
   "execution_count": 44,
   "metadata": {},
   "outputs": [],
   "source": [
    "# importamos ciertas métricas\n",
    "from sklearn.metrics import accuracy_score\n",
    "from sklearn.metrics import f1_score\n",
    "from sklearn.metrics import classification_report\n",
    "from sklearn.metrics import confusion_matrix"
   ]
  },
  {
   "cell_type": "code",
   "execution_count": 45,
   "metadata": {},
   "outputs": [
    {
     "name": "stdout",
     "output_type": "stream",
     "text": [
      "Accuracy Score on training set 0.94826\n",
      "Accuracy Score on test set 0.93673\n"
     ]
    }
   ],
   "source": [
    "# Vemos la \"accuracy\" en el training set y en el test set\n",
    "\n",
    "print('Accuracy Score on training set %.5f' %accuracy_score(Y_train,train_predictions1))\n",
    "print('Accuracy Score on test set %.5f' %accuracy_score(Y_test,test_predictions1))"
   ]
  },
  {
   "cell_type": "code",
   "execution_count": 46,
   "metadata": {},
   "outputs": [
    {
     "name": "stdout",
     "output_type": "stream",
     "text": [
      "Classification Report Training set\n",
      "\n",
      "\n",
      "              precision    recall  f1-score   support\n",
      "\n",
      "           0       0.93      0.98      0.96     26074\n",
      "           1       0.97      0.90      0.94     19322\n",
      "\n",
      "    accuracy                           0.95     45396\n",
      "   macro avg       0.95      0.94      0.95     45396\n",
      "weighted avg       0.95      0.95      0.95     45396\n",
      "\n"
     ]
    }
   ],
   "source": [
    "print('Classification Report Training set')\n",
    "print('\\n')\n",
    "print(classification_report(Y_train,train_predictions1))"
   ]
  },
  {
   "cell_type": "code",
   "execution_count": 47,
   "metadata": {},
   "outputs": [
    {
     "name": "stdout",
     "output_type": "stream",
     "text": [
      "Classification Report Testing set\n",
      "\n",
      "\n",
      "              precision    recall  f1-score   support\n",
      "\n",
      "           0       0.92      0.98      0.95      6518\n",
      "           1       0.97      0.88      0.92      4831\n",
      "\n",
      "    accuracy                           0.94     11349\n",
      "   macro avg       0.94      0.93      0.93     11349\n",
      "weighted avg       0.94      0.94      0.94     11349\n",
      "\n"
     ]
    }
   ],
   "source": [
    "print('Classification Report Testing set')\n",
    "print('\\n')\n",
    "print(classification_report(Y_test,test_predictions1))"
   ]
  },
  {
   "cell_type": "code",
   "execution_count": 48,
   "metadata": {},
   "outputs": [
    {
     "data": {
      "image/png": "[encoded data removed]",
      "text/plain": [
       "<Figure size 432x288 with 2 Axes>"
      ]
     },
     "metadata": {
      "needs_background": "light"
     },
     "output_type": "display_data"
    }
   ],
   "source": [
    "# MATRIZ DE CONFUSIÓN\n",
    "\n",
    "from sklearn.metrics import plot_confusion_matrix\n",
    "\n",
    "plot_confusion_matrix(logreg_clf1,X_test,Y_test)\n",
    "plt.title('Confusion Matrix Test Set')\n",
    "plt.show()"
   ]
  },
  {
   "cell_type": "code",
   "execution_count": 49,
   "metadata": {},
   "outputs": [
    {
     "data": {
      "text/plain": [
       "0.9655875028299751"
      ]
     },
     "execution_count": 49,
     "metadata": {},
     "output_type": "execute_result"
    }
   ],
   "source": [
    "# PRECISIÓN\n",
    "\n",
    "from sklearn.metrics import precision_score, recall_score\n",
    "\n",
    "precision_score(Y_test,test_predictions1)"
   ]
  },
  {
   "cell_type": "code",
   "execution_count": 50,
   "metadata": {},
   "outputs": [
    {
     "data": {
      "text/plain": [
       "0.8828399917201407"
      ]
     },
     "execution_count": 50,
     "metadata": {},
     "output_type": "execute_result"
    }
   ],
   "source": [
    "# RECUPERACIÓN\n",
    "\n",
    "recall_score(Y_test,test_predictions1)"
   ]
  },
  {
   "cell_type": "code",
   "execution_count": 51,
   "metadata": {},
   "outputs": [
    {
     "data": {
      "text/plain": [
       "0.9223615916955017"
      ]
     },
     "execution_count": 51,
     "metadata": {},
     "output_type": "execute_result"
    }
   ],
   "source": [
    "# PUNTUACIÓN F1\n",
    "\n",
    "from sklearn.metrics import f1_score\n",
    "\n",
    "f1_score(Y_test,test_predictions1)"
   ]
  },
  {
   "cell_type": "code",
   "execution_count": 52,
   "metadata": {},
   "outputs": [],
   "source": [
    "# BALANCE PRECISIÓN/RECUPERACIÓN\n",
    "\n",
    "from sklearn.model_selection import cross_val_predict\n",
    "from sklearn.metrics import precision_recall_curve\n",
    "\n",
    "\n",
    "y_scores1 = cross_val_predict(logreg_clf1, X_train, Y_train, cv=3,\n",
    "                             method=\"decision_function\")\n",
    "\n",
    "precisions, recalls, thresholds = precision_recall_curve(Y_train, y_scores1)"
   ]
  },
  {
   "cell_type": "code",
   "execution_count": 53,
   "metadata": {},
   "outputs": [
    {
     "data": {
      "image/png": "[encoded data removed]",
      "text/plain": [
       "<Figure size 576x288 with 1 Axes>"
      ]
     },
     "metadata": {
      "needs_background": "light"
     },
     "output_type": "display_data"
    }
   ],
   "source": [
    "# CURVA PRECISIÓN FRENTE A RECUPERACIÓN EN FUNCIÓN DEL UMBRAL\n",
    "def plot_precision_recall_vs_threshold(precisions, recalls, thresholds):\n",
    "    plt.plot(thresholds, precisions[:-1], \"b--\", label=\"Precision\", linewidth=2)\n",
    "    plt.plot(thresholds, recalls[:-1], \"g-\", label=\"Recall\", linewidth=2)\n",
    "    plt.legend(loc=\"center right\", fontsize=16) \n",
    "    plt.xlabel(\"umbral\", fontsize=16)       \n",
    "    plt.grid(True)                          \n",
    "    plt.axis([-4, 10, 0.2, 1.2])           \n",
    "\n",
    "\n",
    "\n",
    "recall_90_precision = recalls[np.argmax(precisions >= 0.90)]\n",
    "threshold_90_precision = thresholds[np.argmax(precisions >= 0.90)]\n",
    "\n",
    "\n",
    "plt.figure(figsize=(8, 4))                                                              \n",
    "plot_precision_recall_vs_threshold(precisions, recalls, thresholds)\n",
    "plt.plot([threshold_90_precision, threshold_90_precision], [0., 0.9], \"r:\")                 \n",
    "plt.plot([-10, threshold_90_precision], [0.9, 0.9], \"r:\")                                  \n",
    "plt.plot([-10, threshold_90_precision], [recall_90_precision, recall_90_precision], \"r:\")   \n",
    "plt.plot([threshold_90_precision], [0.9], \"ro\")                                            \n",
    "plt.plot([threshold_90_precision], [recall_90_precision], \"ro\")                             \n",
    "plt.show()"
   ]
  },
  {
   "cell_type": "code",
   "execution_count": 54,
   "metadata": {},
   "outputs": [
    {
     "data": {
      "image/png": "[encoded data removed]",
      "text/plain": [
       "<Figure size 576x432 with 1 Axes>"
      ]
     },
     "metadata": {
      "needs_background": "light"
     },
     "output_type": "display_data"
    }
   ],
   "source": [
    "# CURVA PRECISIÓN VS RECUPERACIÓN\n",
    "\n",
    "def plot_precision_vs_recall(precisions, recalls):\n",
    "    plt.plot(recalls, precisions, \"b-\", linewidth=2)\n",
    "    plt.xlabel(\"Recall\", fontsize=16)\n",
    "    plt.ylabel(\"Precision\", fontsize=16)\n",
    "    plt.axis([0, 1, 0, 1.2])\n",
    "    plt.grid(True)\n",
    "\n",
    "plt.figure(figsize=(8, 6))\n",
    "plot_precision_vs_recall(precisions, recalls)\n",
    "#plt.plot([recall_90_precision, recall_90_precision], [0., 0.9], \"r:\")\n",
    "#plt.plot([0.0, recall_90_precision], [0.97, 0.97], \"r:\")\n",
    "#plt.plot([recall_90_precision], [0.9], \"ro\")\n",
    "plt.plot([0,0.88],[0.97,0.97], \"r:\")\n",
    "plt.plot([0.88,0.88],[0.,0.97], \"r:\")\n",
    "plt.plot([0.88],[0.97], \"ro\")\n",
    "plt.show()"
   ]
  },
  {
   "cell_type": "code",
   "execution_count": 55,
   "metadata": {},
   "outputs": [],
   "source": [
    "# CURVA ROC\n",
    "\n",
    "from sklearn.metrics import roc_curve\n",
    "\n",
    "fpr, tpr, thresholds = roc_curve(Y_train, y_scores1)"
   ]
  },
  {
   "cell_type": "code",
   "execution_count": 56,
   "metadata": {},
   "outputs": [
    {
     "data": {
      "image/png": "[encoded data removed]",
      "text/plain": [
       "<Figure size 576x432 with 1 Axes>"
      ]
     },
     "metadata": {
      "needs_background": "light"
     },
     "output_type": "display_data"
    }
   ],
   "source": [
    "def plot_roc_curve(fpr, tpr, label=None):\n",
    "    plt.plot(fpr, tpr, linewidth=2, label=label)\n",
    "    plt.plot([0, 1], [0, 1], 'k--') # dashed diagonal\n",
    "    plt.axis([-0.05, 1, 0, 1.05])                                    \n",
    "    plt.xlabel('FPR', fontsize=16) \n",
    "    plt.ylabel('TPR (Recall)', fontsize=16)    \n",
    "    plt.grid(True)                                            \n",
    "\n",
    "plt.figure(figsize=(8, 6))                                  \n",
    "plot_roc_curve(fpr, tpr)\n",
    "fpr_90 = fpr[np.argmax(tpr >= recall_90_precision)]                                                \n",
    "plt.show()"
   ]
  },
  {
   "cell_type": "code",
   "execution_count": 57,
   "metadata": {},
   "outputs": [
    {
     "data": {
      "text/plain": [
       "0.9814635279568694"
      ]
     },
     "execution_count": 57,
     "metadata": {},
     "output_type": "execute_result"
    }
   ],
   "source": [
    "# calculamos el área bajo la curva\n",
    "\n",
    "from sklearn.metrics import roc_auc_score\n",
    "\n",
    "roc_auc_score(Y_train, y_scores1)"
   ]
  },
  {
   "cell_type": "code",
   "execution_count": 58,
   "metadata": {},
   "outputs": [
    {
     "data": {
      "image/png": "[encoded data removed]",
      "text/plain": [
       "<Figure size 576x432 with 1 Axes>"
      ]
     },
     "metadata": {
      "needs_background": "light"
     },
     "output_type": "display_data"
    }
   ],
   "source": [
    "# CURVA DET\n",
    "\n",
    "from sklearn.metrics import det_curve\n",
    "\n",
    "fpr, fnr, thresholds = det_curve(Y_train, y_scores1)\n",
    "\n",
    "def plot_det_curve(fpr, fnr, label=None):\n",
    "    plt.plot(fpr, fnr, linewidth=2, label=label)\n",
    "    plt.axis([-0.05, 0.3, 0, 0.3])                                    \n",
    "    plt.xlabel('False Positive Rate', fontsize=16) \n",
    "    plt.ylabel('False Negative Rate', fontsize=16)    \n",
    "    plt.grid(True) \n",
    "    \n",
    "plt.figure(figsize=(8, 6))                                  \n",
    "plot_det_curve(fpr, fnr)\n",
    "plt.title('Regresión logística 1')\n",
    "plt.show()"
   ]
  },
  {
   "cell_type": "markdown",
   "metadata": {},
   "source": [
    "# Segundo modelo de clasificación: Regresión Logística mejorada"
   ]
  },
  {
   "cell_type": "markdown",
   "metadata": {},
   "source": [
    "Algo que podemos hacer para mejorar nuestro modelo de Regresión Logística es tunear los hiperparámetros.\n",
    "Una opción es ir probando distintos hiperparámetros manualmente y comparandolos hasta encontrar una buena combinación. Como esto puede ser un trabajo muy tedioso, es mejor utilizar GridSearchCV. Sólo necesitamos decirle con qué hyperparametros queremos experimentar y qué valores darles. GridSearchCV utilizará cross-validation para evaluar todas las posibles combinaciones."
   ]
  },
  {
   "cell_type": "code",
   "execution_count": 59,
   "metadata": {},
   "outputs": [],
   "source": [
    "# importamos las librerias necesarias para usar grid search\n",
    "from sklearn.model_selection import RandomizedSearchCV\n",
    "from sklearn.model_selection import StratifiedKFold\n",
    "from sklearn.model_selection import cross_val_score"
   ]
  },
  {
   "cell_type": "code",
   "execution_count": 60,
   "metadata": {},
   "outputs": [],
   "source": [
    "# definimos el espacio de búsqueda\n",
    "from scipy.stats import loguniform\n",
    "space = dict()\n",
    "space['solver'] = ['newton-cg', 'lbfgs', 'liblinear']\n",
    "space['penalty'] = ['l1', 'l2', 'elasticnet']\n",
    "space['C'] = loguniform(1e-5, 100)"
   ]
  },
  {
   "cell_type": "code",
   "execution_count": 61,
   "metadata": {},
   "outputs": [
    {
     "name": "stdout",
     "output_type": "stream",
     "text": [
      "{'solver': ['newton-cg', 'lbfgs', 'liblinear'], 'penalty': ['l1', 'l2', 'elasticnet'], 'C': <scipy.stats._distn_infrastructure.rv_frozen object at 0x7f3ca123dbe0>}\n"
     ]
    }
   ],
   "source": [
    "# comprobamos el espacio de búsqueda\n",
    "print(space)"
   ]
  },
  {
   "cell_type": "code",
   "execution_count": 62,
   "metadata": {},
   "outputs": [
    {
     "name": "stderr",
     "output_type": "stream",
     "text": [
      "/opt/conda/lib/python3.6/site-packages/sklearn/model_selection/_search.py:925: UserWarning: One or more of the test scores are non-finite: [0.86688735        nan 0.01707903 0.                nan        nan\n",
      "        nan 0.54238705        nan        nan        nan 0.\n",
      " 0.90684199 0.04792467        nan 0.         0.8921437         nan\n",
      " 0.9056518  0.90653168        nan 0.90855003 0.86409258        nan\n",
      "        nan 0.02168516        nan        nan 0.         0.\n",
      "        nan 0.90606565        nan        nan        nan        nan\n",
      "        nan        nan 0.02261675 0.00993697 0.73284391        nan\n",
      " 0.01117905        nan        nan        nan        nan        nan\n",
      "        nan        nan        nan        nan 0.8472207         nan\n",
      "        nan        nan        nan 0.                nan        nan\n",
      " 0.90606562        nan 0.66851272 0.         0.32641571        nan\n",
      "        nan        nan        nan        nan 0.90477193        nan\n",
      "        nan        nan        nan 0.         0.75856556 0.51195543\n",
      "        nan 0.8834489         nan 0.88277609        nan        nan\n",
      "        nan        nan        nan 0.82589793        nan        nan\n",
      "        nan 0.90280511 0.59326176        nan        nan        nan\n",
      "        nan        nan 0.90580699 0.9060659 ]\n",
      "  category=UserWarning\n"
     ]
    }
   ],
   "source": [
    "# definimos los parámetros y ejecutamos\n",
    "logreg_clf1 = LogisticRegression()\n",
    "seed=51\n",
    "folds = StratifiedKFold(n_splits=4,shuffle=True,random_state=seed)\n",
    "\n",
    "\n",
    "grid_search = RandomizedSearchCV(estimator=logreg_clf1,param_distributions=space, n_iter=100, scoring='recall',\n",
    "                            n_jobs=-1, cv=folds, random_state=seed)\n",
    "\n",
    "grid_result = grid_search.fit(X_train,Y_train)"
   ]
  },
  {
   "cell_type": "code",
   "execution_count": 63,
   "metadata": {},
   "outputs": [
    {
     "data": {
      "text/plain": [
       "LogisticRegression(C=9.946187215154557, penalty='l1', solver='liblinear')"
      ]
     },
     "execution_count": 63,
     "metadata": {},
     "output_type": "execute_result"
    }
   ],
   "source": [
    "# EL MEJOR MODELO\n",
    "grid_result.best_estimator_"
   ]
  },
  {
   "cell_type": "code",
   "execution_count": 64,
   "metadata": {},
   "outputs": [],
   "source": [
    "# lo inicializamos\n",
    "logreg_clf2 = LogisticRegression(C=9.946187215154557, penalty='l1', solver='liblinear')"
   ]
  },
  {
   "cell_type": "code",
   "execution_count": 65,
   "metadata": {},
   "outputs": [],
   "source": [
    "logreg_clf2.fit(X_train,Y_train)\n",
    "train_predictions2 = logreg_clf2.predict(X_train)\n",
    "test_predictions2 = logreg_clf2.predict(X_test)"
   ]
  },
  {
   "cell_type": "markdown",
   "metadata": {},
   "source": [
    "## Evaluación del segundo modelo"
   ]
  },
  {
   "cell_type": "code",
   "execution_count": 66,
   "metadata": {},
   "outputs": [
    {
     "name": "stdout",
     "output_type": "stream",
     "text": [
      "Accuracy Score on training set 0.97070\n",
      "Accuracy Score on test set 0.93858\n"
     ]
    }
   ],
   "source": [
    "# Vemos la \"accuracy\" en el training set y en el test set\n",
    "print('Accuracy Score on training set %.5f' %accuracy_score(Y_train,train_predictions2))\n",
    "print('Accuracy Score on test set %.5f' %accuracy_score(Y_test,test_predictions2))"
   ]
  },
  {
   "cell_type": "code",
   "execution_count": 67,
   "metadata": {},
   "outputs": [
    {
     "name": "stdout",
     "output_type": "stream",
     "text": [
      "Classification Report Training set\n",
      "------------------------------------\n",
      "\n",
      "\n",
      "              precision    recall  f1-score   support\n",
      "\n",
      "           0       0.97      0.98      0.97     26074\n",
      "           1       0.98      0.95      0.97     19322\n",
      "\n",
      "    accuracy                           0.97     45396\n",
      "   macro avg       0.97      0.97      0.97     45396\n",
      "weighted avg       0.97      0.97      0.97     45396\n",
      "\n"
     ]
    }
   ],
   "source": [
    "print('Classification Report Training set')\n",
    "print('------------------------------------')\n",
    "print('\\n')\n",
    "print(classification_report(Y_train,train_predictions2))"
   ]
  },
  {
   "cell_type": "code",
   "execution_count": 68,
   "metadata": {},
   "outputs": [
    {
     "name": "stdout",
     "output_type": "stream",
     "text": [
      "Classification Report Testing set\n",
      "------------------------------------\n",
      "\n",
      "\n",
      "              precision    recall  f1-score   support\n",
      "\n",
      "           0       0.93      0.96      0.95      6518\n",
      "           1       0.95      0.91      0.93      4831\n",
      "\n",
      "    accuracy                           0.94     11349\n",
      "   macro avg       0.94      0.93      0.94     11349\n",
      "weighted avg       0.94      0.94      0.94     11349\n",
      "\n"
     ]
    }
   ],
   "source": [
    "print('Classification Report Testing set')\n",
    "print('------------------------------------')\n",
    "print('\\n')\n",
    "print(classification_report(Y_test,test_predictions2))"
   ]
  },
  {
   "cell_type": "code",
   "execution_count": 69,
   "metadata": {},
   "outputs": [
    {
     "data": {
      "image/png": "[encoded data removed]",
      "text/plain": [
       "<Figure size 432x288 with 2 Axes>"
      ]
     },
     "metadata": {
      "needs_background": "light"
     },
     "output_type": "display_data"
    }
   ],
   "source": [
    "# MATRIZ DE CONFUSIÓN\n",
    "\n",
    "from sklearn.metrics import plot_confusion_matrix\n",
    "plot_confusion_matrix(logreg_clf2,X_test,Y_test)\n",
    "plt.title('Confusion Matrix Test Set')\n",
    "plt.show()"
   ]
  },
  {
   "cell_type": "code",
   "execution_count": 70,
   "metadata": {},
   "outputs": [
    {
     "data": {
      "text/plain": [
       "0.9454741379310345"
      ]
     },
     "execution_count": 70,
     "metadata": {},
     "output_type": "execute_result"
    }
   ],
   "source": [
    "# PRECISIÓN\n",
    "\n",
    "precision_score(Y_test,test_predictions2)"
   ]
  },
  {
   "cell_type": "code",
   "execution_count": 71,
   "metadata": {},
   "outputs": [
    {
     "data": {
      "text/plain": [
       "0.9080935624094391"
      ]
     },
     "execution_count": 71,
     "metadata": {},
     "output_type": "execute_result"
    }
   ],
   "source": [
    "# RECUPERACIÓN\n",
    "\n",
    "recall_score(Y_test,test_predictions2)"
   ]
  },
  {
   "cell_type": "code",
   "execution_count": 72,
   "metadata": {},
   "outputs": [
    {
     "data": {
      "text/plain": [
       "0.9264069264069263"
      ]
     },
     "execution_count": 72,
     "metadata": {},
     "output_type": "execute_result"
    }
   ],
   "source": [
    "# PUNTUACIÓN F1\n",
    "\n",
    "f1_score(Y_test,test_predictions2)"
   ]
  },
  {
   "cell_type": "code",
   "execution_count": 73,
   "metadata": {},
   "outputs": [],
   "source": [
    "# BALANCE PRECISIÓN/RECUPERACIÓN\n",
    "\n",
    "y_scores2 = cross_val_predict(logreg_clf2, X_train, Y_train, cv=3,\n",
    "                             method=\"decision_function\")"
   ]
  },
  {
   "cell_type": "code",
   "execution_count": 74,
   "metadata": {},
   "outputs": [],
   "source": [
    "precisions, recalls, thresholds = precision_recall_curve(Y_train, y_scores2)"
   ]
  },
  {
   "cell_type": "code",
   "execution_count": 75,
   "metadata": {},
   "outputs": [
    {
     "data": {
      "image/png": "[encoded data removed]",
      "text/plain": [
       "<Figure size 576x288 with 1 Axes>"
      ]
     },
     "metadata": {
      "needs_background": "light"
     },
     "output_type": "display_data"
    }
   ],
   "source": [
    "# CURVA PRECISIÓN FRENTE A RECUPERACIÓN EN FUNCIÓN DEL UMBRAL\n",
    "\n",
    "def plot_precision_recall_vs_threshold(precisions, recalls, thresholds):\n",
    "    plt.plot(thresholds, precisions[:-1], \"b--\", label=\"Precision\", linewidth=2)\n",
    "    plt.plot(thresholds, recalls[:-1], \"g-\", label=\"Recall\", linewidth=2)\n",
    "    plt.legend(loc=\"center right\", fontsize=16) \n",
    "    plt.xlabel(\"Threshold\", fontsize=16)       \n",
    "    plt.grid(True)                          \n",
    "    plt.axis([-10, 10, 0.2, 1.2])           \n",
    "\n",
    "\n",
    "\n",
    "recall_90_precision = recalls[np.argmax(precisions >= 0.90)]\n",
    "threshold_90_precision = thresholds[np.argmax(precisions >= 0.90)]\n",
    "\n",
    "\n",
    "plt.figure(figsize=(8, 4))                                                              \n",
    "plot_precision_recall_vs_threshold(precisions, recalls, thresholds)\n",
    "plt.plot([threshold_90_precision, threshold_90_precision], [0., 0.9], \"r:\")                 \n",
    "plt.plot([-10, threshold_90_precision], [0.9, 0.9], \"r:\")                                  \n",
    "plt.plot([-10, threshold_90_precision], [recall_90_precision, recall_90_precision], \"r:\")   \n",
    "plt.plot([threshold_90_precision], [0.9], \"ro\")                                            \n",
    "plt.plot([threshold_90_precision], [recall_90_precision], \"ro\")                             \n",
    "plt.show()"
   ]
  },
  {
   "cell_type": "code",
   "execution_count": 76,
   "metadata": {},
   "outputs": [
    {
     "data": {
      "image/png": "[encoded data removed]",
      "text/plain": [
       "<Figure size 576x432 with 1 Axes>"
      ]
     },
     "metadata": {
      "needs_background": "light"
     },
     "output_type": "display_data"
    }
   ],
   "source": [
    "# CURVA PRECISIÓN VS RECUPERACIÓN\n",
    "\n",
    "def plot_precision_vs_recall(precisions, recalls):\n",
    "    plt.plot(recalls, precisions, \"b-\", linewidth=2)\n",
    "    plt.xlabel(\"Recall\", fontsize=16)\n",
    "    plt.ylabel(\"Precision\", fontsize=16)\n",
    "    plt.axis([0, 1, 0, 1.2])\n",
    "    plt.grid(True)\n",
    "\n",
    "plt.figure(figsize=(8, 6))\n",
    "plot_precision_vs_recall(precisions, recalls)\n",
    "plt.plot([recall_90_precision, recall_90_precision], [0., 0.9], \"r:\")\n",
    "plt.plot([0.0, recall_90_precision], [0.9, 0.9], \"r:\")\n",
    "plt.plot([recall_90_precision], [0.9], \"ro\")\n",
    "plt.show()"
   ]
  },
  {
   "cell_type": "code",
   "execution_count": 77,
   "metadata": {},
   "outputs": [],
   "source": [
    "# CURVA ROC\n",
    "\n",
    "fpr1, tpr1, thresholds = roc_curve(Y_train, y_scores2)"
   ]
  },
  {
   "cell_type": "code",
   "execution_count": 78,
   "metadata": {},
   "outputs": [
    {
     "data": {
      "image/png": "[encoded data removed]",
      "text/plain": [
       "<Figure size 576x432 with 1 Axes>"
      ]
     },
     "metadata": {
      "needs_background": "light"
     },
     "output_type": "display_data"
    }
   ],
   "source": [
    "plt.figure(figsize=(8, 6))                                  \n",
    "plot_roc_curve(fpr1, tpr1)\n",
    "fpr_90 = fpr[np.argmax(tpr1 >= recall_90_precision)]         \n",
    "plt.title('Regresión logística con hiperparámetros tuneados')\n",
    "plt.show()"
   ]
  },
  {
   "cell_type": "code",
   "execution_count": 79,
   "metadata": {},
   "outputs": [
    {
     "data": {
      "text/plain": [
       "0.97597753952572"
      ]
     },
     "execution_count": 79,
     "metadata": {},
     "output_type": "execute_result"
    }
   ],
   "source": [
    "# calculamos el área bajo la curva\n",
    "roc_auc_score(Y_train, y_scores2)"
   ]
  },
  {
   "cell_type": "code",
   "execution_count": 80,
   "metadata": {},
   "outputs": [
    {
     "data": {
      "image/png": "[encoded data removed]",
      "text/plain": [
       "<Figure size 576x432 with 1 Axes>"
      ]
     },
     "metadata": {
      "needs_background": "light"
     },
     "output_type": "display_data"
    }
   ],
   "source": [
    "# CURVA DET\n",
    "\n",
    "fpr1, fnr1, thresholds1 = det_curve(Y_train, y_scores2)\n",
    "\n",
    "plt.figure(figsize=(8, 6))                                  \n",
    "plot_det_curve(fpr1, fnr1)\n",
    "plt.title('Regresión logística 2')\n",
    "plt.show()"
   ]
  },
  {
   "cell_type": "markdown",
   "metadata": {},
   "source": [
    "# Tercer modelo de clasificación: SVM - Support Vector Machine"
   ]
  },
  {
   "cell_type": "code",
   "execution_count": 81,
   "metadata": {},
   "outputs": [],
   "source": [
    "# importamos el modelo\n",
    "\n",
    "from sklearn.svm import LinearSVC"
   ]
  },
  {
   "cell_type": "code",
   "execution_count": 82,
   "metadata": {},
   "outputs": [],
   "source": [
    "# inicializamos el modelo con hiperparámetros por defecto\n",
    "\n",
    "linSVC_clf = LinearSVC()\n",
    "linSVC_clf.fit(X_train,Y_train)\n",
    "train_predictions3 = linSVC_clf.predict(X_train)\n",
    "test_predictions3 = linSVC_clf.predict(X_test)"
   ]
  },
  {
   "cell_type": "code",
   "execution_count": 83,
   "metadata": {},
   "outputs": [
    {
     "name": "stdout",
     "output_type": "stream",
     "text": [
      "Accuracy Score on training set 0.96462\n",
      "Accuracy Score on test set 0.94220\n"
     ]
    }
   ],
   "source": [
    "# Vemos la \"accuracy\" en el training set y en el test set\n",
    "print('Accuracy Score on training set %.5f' %accuracy_score(Y_train,train_predictions3))\n",
    "print('Accuracy Score on test set %.5f' %accuracy_score(Y_test,test_predictions3))"
   ]
  },
  {
   "cell_type": "code",
   "execution_count": 84,
   "metadata": {},
   "outputs": [
    {
     "name": "stdout",
     "output_type": "stream",
     "text": [
      "Classification Report Training set\n",
      "\n",
      "\n",
      "              precision    recall  f1-score   support\n",
      "\n",
      "           0       0.96      0.98      0.97     26074\n",
      "           1       0.98      0.94      0.96     19322\n",
      "\n",
      "    accuracy                           0.96     45396\n",
      "   macro avg       0.97      0.96      0.96     45396\n",
      "weighted avg       0.96      0.96      0.96     45396\n",
      "\n"
     ]
    }
   ],
   "source": [
    "print('Classification Report Training set')\n",
    "print('\\n')\n",
    "print(classification_report(Y_train,train_predictions3))"
   ]
  },
  {
   "cell_type": "code",
   "execution_count": 85,
   "metadata": {},
   "outputs": [
    {
     "name": "stdout",
     "output_type": "stream",
     "text": [
      "Classification Report Testing set\n",
      "\n",
      "\n",
      "              precision    recall  f1-score   support\n",
      "\n",
      "           0       0.93      0.97      0.95      6518\n",
      "           1       0.96      0.91      0.93      4831\n",
      "\n",
      "    accuracy                           0.94     11349\n",
      "   macro avg       0.94      0.94      0.94     11349\n",
      "weighted avg       0.94      0.94      0.94     11349\n",
      "\n"
     ]
    }
   ],
   "source": [
    "print('Classification Report Testing set')\n",
    "print('\\n')\n",
    "print(classification_report(Y_test,test_predictions3))"
   ]
  },
  {
   "cell_type": "code",
   "execution_count": 86,
   "metadata": {},
   "outputs": [
    {
     "data": {
      "image/png": "[encoded data removed]",
      "text/plain": [
       "<Figure size 432x288 with 2 Axes>"
      ]
     },
     "metadata": {
      "needs_background": "light"
     },
     "output_type": "display_data"
    }
   ],
   "source": [
    "# MATRIZ DE CONFUSIÓN\n",
    "plot_confusion_matrix(linSVC_clf,X_test,Y_test)\n",
    "plt.title('Confusion Matrix Test Set')\n",
    "plt.show()"
   ]
  },
  {
   "cell_type": "code",
   "execution_count": 87,
   "metadata": {},
   "outputs": [
    {
     "data": {
      "text/plain": [
       "0.9560847716845094"
      ]
     },
     "execution_count": 87,
     "metadata": {},
     "output_type": "execute_result"
    }
   ],
   "source": [
    "# PRECISIÓN\n",
    "precision_score(Y_test,test_predictions3)"
   ]
  },
  {
   "cell_type": "code",
   "execution_count": 88,
   "metadata": {},
   "outputs": [
    {
     "data": {
      "text/plain": [
       "0.905816601117781"
      ]
     },
     "execution_count": 88,
     "metadata": {},
     "output_type": "execute_result"
    }
   ],
   "source": [
    "# RECUPERACIÓN\n",
    "recall_score(Y_test,test_predictions3)"
   ]
  },
  {
   "cell_type": "code",
   "execution_count": 89,
   "metadata": {},
   "outputs": [],
   "source": [
    "# BALANCE PRECISIÓN/RECUPERACIÓN\n",
    "\n",
    "y_scores3 = cross_val_predict(linSVC_clf, X_train, Y_train, cv=3,\n",
    "                             method=\"decision_function\")"
   ]
  },
  {
   "cell_type": "code",
   "execution_count": 90,
   "metadata": {},
   "outputs": [],
   "source": [
    "precisions, recalls, thresholds = precision_recall_curve(Y_train, y_scores3)"
   ]
  },
  {
   "cell_type": "code",
   "execution_count": 91,
   "metadata": {},
   "outputs": [
    {
     "data": {
      "image/png": "[encoded data removed]",
      "text/plain": [
       "<Figure size 576x288 with 1 Axes>"
      ]
     },
     "metadata": {
      "needs_background": "light"
     },
     "output_type": "display_data"
    }
   ],
   "source": [
    "# CURVA PRECISIÓN FRENTE A RECUPERACIÓN EN FUNCIÓN DEL UMBRAL\n",
    "\n",
    "def plot_precision_recall_vs_threshold2(precisions, recalls, thresholds):\n",
    "    plt.plot(thresholds, precisions[:-1], \"b--\", label=\"Precision\", linewidth=2)\n",
    "    plt.plot(thresholds, recalls[:-1], \"g-\", label=\"Recall\", linewidth=2)\n",
    "    plt.legend(loc=\"center right\", fontsize=16) \n",
    "    plt.xlabel(\"Threshold\", fontsize=16)       \n",
    "    plt.grid(True)                          \n",
    "    plt.axis([-1.80, 2, 0.5, 1.1])           \n",
    "\n",
    "\n",
    "\n",
    "recall_90_precision = recalls[np.argmax(precisions >= 0.90)]\n",
    "threshold_90_precision = thresholds[np.argmax(precisions >= 0.90)]\n",
    "\n",
    "\n",
    "plt.figure(figsize=(8, 4))                                                              \n",
    "plot_precision_recall_vs_threshold2(precisions, recalls, thresholds)\n",
    "plt.plot([threshold_90_precision, threshold_90_precision], [0., 0.9], \"r:\")                 \n",
    "plt.plot([-10, threshold_90_precision], [0.9, 0.9], \"r:\")                                  \n",
    "plt.plot([-10, threshold_90_precision], [recall_90_precision, recall_90_precision], \"r:\")   \n",
    "plt.plot([threshold_90_precision], [0.9], \"ro\")                                            \n",
    "plt.plot([threshold_90_precision], [recall_90_precision], \"ro\")                             \n",
    "plt.show()"
   ]
  },
  {
   "cell_type": "code",
   "execution_count": 92,
   "metadata": {},
   "outputs": [
    {
     "data": {
      "image/png": "[encoded data removed]",
      "text/plain": [
       "<Figure size 576x432 with 1 Axes>"
      ]
     },
     "metadata": {
      "needs_background": "light"
     },
     "output_type": "display_data"
    }
   ],
   "source": [
    "# CURVA PRECISIÓN VS RECUPERACIÓN\n",
    "\n",
    "plt.figure(figsize=(8, 6))\n",
    "plot_precision_vs_recall(precisions, recalls)\n",
    "plt.plot([recall_90_precision, recall_90_precision], [0., 0.9], \"r:\")\n",
    "plt.plot([0.0, recall_90_precision], [0.9, 0.9], \"r:\")\n",
    "plt.plot([recall_90_precision], [0.9], \"ro\")\n",
    "plt.show()"
   ]
  },
  {
   "cell_type": "code",
   "execution_count": 93,
   "metadata": {},
   "outputs": [
    {
     "data": {
      "image/png": "[encoded data removed]",
      "text/plain": [
       "<Figure size 576x432 with 1 Axes>"
      ]
     },
     "metadata": {
      "needs_background": "light"
     },
     "output_type": "display_data"
    }
   ],
   "source": [
    "# CURVA ROC\n",
    "\n",
    "fpr2, tpr2, thresholds = roc_curve(Y_train, y_scores3)\n",
    "\n",
    "plt.figure(figsize=(8, 6))                                  \n",
    "plot_roc_curve(fpr2, tpr2)\n",
    "fpr_90 = fpr[np.argmax(tpr2 >= recall_90_precision)]         \n",
    "plt.title('SVM lineal')\n",
    "plt.show()"
   ]
  },
  {
   "cell_type": "code",
   "execution_count": 94,
   "metadata": {},
   "outputs": [
    {
     "data": {
      "text/plain": [
       "0.9795600652326334"
      ]
     },
     "execution_count": 94,
     "metadata": {},
     "output_type": "execute_result"
    }
   ],
   "source": [
    "# calculamos el área bajo la curva\n",
    "roc_auc_score(Y_train, y_scores3)"
   ]
  },
  {
   "cell_type": "code",
   "execution_count": 95,
   "metadata": {},
   "outputs": [
    {
     "data": {
      "image/png": "[encoded data removed]",
      "text/plain": [
       "<Figure size 576x432 with 1 Axes>"
      ]
     },
     "metadata": {
      "needs_background": "light"
     },
     "output_type": "display_data"
    }
   ],
   "source": [
    "# CURVA DET\n",
    "\n",
    "fpr2, fnr2, thresholds = det_curve(Y_train, y_scores3)\n",
    "\n",
    "plt.figure(figsize=(8, 6))                                  \n",
    "plot_det_curve(fpr2, fnr2)                                      \n",
    "plt.show()"
   ]
  },
  {
   "cell_type": "markdown",
   "metadata": {},
   "source": [
    "# Comparación de las curvas ROC y DET de los modelos"
   ]
  },
  {
   "cell_type": "code",
   "execution_count": 96,
   "metadata": {},
   "outputs": [
    {
     "name": "stdout",
     "output_type": "stream",
     "text": [
      "ROC AUC score for 1 0.98146\n",
      "ROC AUC score for 2 0.97598\n",
      "ROC AUC score for 3 0.97956\n"
     ]
    }
   ],
   "source": [
    "# PUNTUACIÓN ROC (área bajo la curva)\n",
    "\n",
    "ROC1 = roc_auc_score(Y_train, y_scores1)\n",
    "ROC2 = roc_auc_score(Y_train, y_scores2)\n",
    "ROC3 = roc_auc_score(Y_train, y_scores3)\n",
    "print('ROC AUC score for 1 %.5f' %ROC1)\n",
    "print('ROC AUC score for 2 %.5f' %ROC2)\n",
    "print('ROC AUC score for 3 %.5f' %ROC3)"
   ]
  },
  {
   "cell_type": "code",
   "execution_count": 97,
   "metadata": {},
   "outputs": [
    {
     "data": {
      "image/png": "[encoded data removed]",
      "text/plain": [
       "<Figure size 576x432 with 1 Axes>"
      ]
     },
     "metadata": {
      "needs_background": "light"
     },
     "output_type": "display_data"
    }
   ],
   "source": [
    "# CURVA ROC\n",
    "\n",
    "plt.figure(figsize=(8, 6))                                  \n",
    "plot_det_curve(fpr, fnr,\"RL1\")\n",
    "plot_det_curve(fpr1,fnr1,\"RL2\")\n",
    "plot_det_curve(fpr2, fnr2,\"SVM\")\n",
    "plt.legend(loc=\"upper right\",fontsize=14)\n",
    "plt.show()"
   ]
  },
  {
   "cell_type": "code",
   "execution_count": 98,
   "metadata": {},
   "outputs": [],
   "source": [
    "# CURVA ROC\n",
    "\n",
    "fpr, tpr, thresholds = roc_curve(Y_train, y_scores1)\n",
    "fpr1, tpr1, thresholds = roc_curve(Y_train, y_scores2)\n",
    "fpr2, tpr2, thresholds = roc_curve(Y_train, y_scores3)"
   ]
  },
  {
   "cell_type": "code",
   "execution_count": 99,
   "metadata": {},
   "outputs": [
    {
     "data": {
      "image/png": "[encoded data removed]",
      "text/plain": [
       "<Figure size 576x432 with 1 Axes>"
      ]
     },
     "metadata": {
      "needs_background": "light"
     },
     "output_type": "display_data"
    }
   ],
   "source": [
    "plt.figure(figsize=(8, 6))                                  \n",
    "plot_roc_curve(fpr, tpr,\"RL1\")\n",
    "plot_roc_curve(fpr1,tpr1,\"RL2\")\n",
    "plot_roc_curve(fpr2, tpr2,\"SVM\")\n",
    "plt.legend(loc=\"upper right\", fontsize=14)\n",
    "plt.show()"
   ]
  },
  {
   "cell_type": "code",
   "execution_count": null,
   "metadata": {},
   "outputs": [],
   "source": []
  }
 ],
 "metadata": {
  "kernelspec": {
   "display_name": "Python 3",
   "language": "python",
   "name": "python3"
  },
  "language_info": {
   "codemirror_mode": {
    "name": "ipython",
    "version": 3
   },
   "file_extension": ".py",
   "mimetype": "text/x-python",
   "name": "python",
   "nbconvert_exporter": "python",
   "pygments_lexer": "ipython3",
   "version": "3.6.9"
  }
 },
 "nbformat": 4,
 "nbformat_minor": 4
}
